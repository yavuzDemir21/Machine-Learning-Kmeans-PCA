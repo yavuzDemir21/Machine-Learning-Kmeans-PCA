{
 "cells": [
  {
   "cell_type": "markdown",
   "metadata": {},
   "source": [
    "<h1><center>CMPE 462 - Project 3 <br>Implementing K-Means & PCA<br>Due: June 14, 2020, 23:59</center></h1>"
   ]
  },
  {
   "cell_type": "markdown",
   "metadata": {},
   "source": [
    "- **Student ID1:** **2015400030**\n",
    "- **Student ID2:** **2015400084**\n",
    "- **Student ID3:** **2017400294**"
   ]
  },
  {
   "cell_type": "markdown",
   "metadata": {},
   "source": [
    "In this project, you are going to implement two unsupervised learning techniques. In the first task, you are asked to implement **k-means clustering** algorithm using the data provided in `kmeans_data.zip`. In the second task, you need to implement **PCA** and apply dimensionality reduction on the data provided in `USPS.mat`. "
   ]
  },
  {
   "cell_type": "markdown",
   "metadata": {},
   "source": [
    "# (50 pts) Task 1: K-Means Clustering\n",
    "\n",
    "Please download `kmeans_data.zip`. In this problem, ground truth cluster assignments are given in `labels.npy`. "
   ]
  },
  {
   "cell_type": "code",
   "execution_count": 2,
   "metadata": {},
   "outputs": [],
   "source": [
    "import numpy as np"
   ]
  },
  {
   "cell_type": "code",
   "execution_count": 3,
   "metadata": {},
   "outputs": [],
   "source": [
    "kmeans_data = np.load('kmeans_data/data.npy')"
   ]
  },
  {
   "cell_type": "code",
   "execution_count": 6,
   "metadata": {},
   "outputs": [],
   "source": [
    "labels = np.load('kmeans_data/label.npy')"
   ]
  },
  {
   "cell_type": "code",
   "execution_count": 4,
   "metadata": {},
   "outputs": [
    {
     "data": {
      "text/plain": [
       "(500, 2)"
      ]
     },
     "execution_count": 4,
     "metadata": {},
     "output_type": "execute_result"
    }
   ],
   "source": [
    "kmeans_data.shape"
   ]
  },
  {
   "cell_type": "code",
   "execution_count": 7,
   "metadata": {},
   "outputs": [
    {
     "data": {
      "text/plain": [
       "array([0, 2, 2, 0, 0, 0, 0, 2, 2, 0, 2, 2, 2, 2, 0, 0, 1, 0, 2, 0, 1, 1,\n",
       "       1, 2, 0, 2, 1, 2, 0, 2, 2, 0, 0, 0, 1, 1, 1, 1, 1, 1, 2, 0, 0, 1,\n",
       "       1, 0, 1, 0, 2, 2, 0, 0, 0, 0, 2, 2, 1, 1, 0, 2, 1, 2, 1, 1, 1, 2,\n",
       "       0, 1, 2, 0, 2, 0, 0, 2, 1, 2, 1, 1, 1, 0, 0, 0, 2, 0, 2, 1, 2, 2,\n",
       "       2, 2, 0, 0, 1, 0, 2, 1, 2, 2, 2, 0, 1, 2, 2, 0, 0, 1, 0, 1, 0, 1,\n",
       "       0, 0, 1, 2, 2, 1, 2, 1, 1, 2, 2, 0, 2, 2, 2, 0, 2, 0, 2, 0, 1, 0,\n",
       "       2, 1, 0, 1, 2, 2, 1, 0, 0, 2, 2, 1, 0, 0, 0, 1, 1, 0, 1, 0, 0, 0,\n",
       "       1, 0, 2, 1, 2, 0, 1, 1, 2, 2, 2, 1, 0, 1, 0, 1, 2, 2, 1, 0, 0, 2,\n",
       "       2, 1, 1, 1, 1, 1, 2, 2, 1, 1, 0, 1, 0, 2, 2, 0, 1, 1, 0, 2, 1, 0,\n",
       "       2, 1, 2, 1, 0, 0, 2, 1, 1, 1, 2, 2, 0, 1, 1, 2, 2, 0, 2, 0, 2, 2,\n",
       "       1, 2, 1, 1, 0, 0, 0, 1, 2, 0, 0, 2, 2, 1, 2, 2, 0, 1, 0, 0, 0, 1,\n",
       "       1, 1, 0, 2, 2, 2, 2, 2, 1, 2, 2, 0, 2, 2, 0, 1, 2, 1, 1, 0, 0, 1,\n",
       "       1, 0, 2, 1, 2, 1, 1, 2, 1, 0, 0, 1, 0, 1, 1, 1, 1, 2, 1, 0, 0, 0,\n",
       "       0, 2, 2, 1, 1, 2, 2, 0, 0, 1, 2, 0, 2, 1, 0, 1, 2, 1, 0, 2, 0, 1,\n",
       "       0, 2, 1, 2, 2, 0, 0, 0, 1, 2, 2, 0, 0, 1, 2, 1, 0, 0, 1, 1, 0, 2,\n",
       "       1, 0, 1, 2, 1, 1, 0, 2, 0, 2, 1, 2, 1, 0, 0, 0, 1, 0, 0, 2, 1, 0,\n",
       "       2, 2, 2, 0, 1, 1, 1, 2, 0, 1, 2, 0, 0, 0, 2, 0, 2, 0, 2, 2, 0, 2,\n",
       "       2, 2, 2, 1, 1, 2, 1, 2, 2, 2, 2, 0, 0, 0, 1, 2, 0, 1, 0, 1, 0, 1,\n",
       "       2, 2, 0, 2, 1, 0, 1, 2, 2, 0, 1, 2, 1, 2, 0, 0, 0, 1, 2, 0, 0, 1,\n",
       "       2, 2, 0, 2, 1, 0, 2, 0, 1, 0, 2, 0, 0, 1, 0, 0, 0, 0, 1, 0, 1, 2,\n",
       "       1, 1, 0, 2, 1, 2, 1, 2, 1, 0, 2, 1, 1, 1, 1, 1, 0, 2, 1, 2, 0, 0,\n",
       "       1, 2, 2, 0, 2, 1, 0, 0, 1, 1, 2, 1, 2, 1, 1, 1, 1, 2, 0, 1, 1, 0,\n",
       "       1, 2, 2, 0, 1, 1, 2, 0, 2, 0, 0, 1, 1, 1, 0, 1])"
      ]
     },
     "execution_count": 7,
     "metadata": {},
     "output_type": "execute_result"
    }
   ],
   "source": [
    "labels"
   ]
  },
  {
   "cell_type": "markdown",
   "metadata": {},
   "source": [
    "## (10 pts) Task 1.1: Plot Clusters\n",
    "\n",
    "Plot the data using scatter plot. Assign different colors to different classes."
   ]
  },
  {
   "cell_type": "code",
   "execution_count": 13,
   "metadata": {},
   "outputs": [],
   "source": [
    "import matplotlib.pyplot as plt"
   ]
  },
  {
   "cell_type": "code",
   "execution_count": 14,
   "metadata": {},
   "outputs": [],
   "source": [
    "def plotter(x_feature_data,y_feature_data, label_data, legend_pos, x_label_name, y_label_name, title, col1=0, col2=1):\n",
    "    plottable=np.column_stack((x_feature_data,y_feature_data))\n",
    "    plotterStacked(plottable, label_data, legend_pos, x_label_name, y_label_name, title)\n",
    "    plt.show()"
   ]
  },
  {
   "cell_type": "code",
   "execution_count": 17,
   "metadata": {},
   "outputs": [],
   "source": [
    "def plotterStacked(plottable, label_data, legend_pos, x_label_name, y_label_name, title, col1=0, col2=1):\n",
    "    fig = plt.figure()\n",
    "    ax1 = fig.add_subplot(111)\n",
    "    ax1.scatter(plottable[label_data==0,col1], plottable[label_data== 0,col2], marker = 'x', color='red', label='0')\n",
    "    ax1.scatter(plottable[label_data==1,col1], plottable[label_data== 1,col2], marker = '+', color='green', label='1')\n",
    "    ax1.scatter(plottable[label_data==2,col1], plottable[label_data== 2,col2], marker = 'o',facecolors='none', edgecolors='blue', label='2')\n",
    "    plt.legend(loc= legend_pos)\n",
    "    #add title, x and y labels\n",
    "    plt.xlabel(x_label_name) \n",
    "    plt.ylabel(y_label_name)\n",
    "    plt.title(title)"
   ]
  },
  {
   "cell_type": "code",
   "execution_count": 19,
   "metadata": {},
   "outputs": [
    {
     "data": {
      "image/png": "[encoded data removed]",
      "text/plain": [
       "<Figure size 432x288 with 1 Axes>"
      ]
     },
     "metadata": {
      "needs_background": "light"
     },
     "output_type": "display_data"
    }
   ],
   "source": [
    "plotter(kmeans_data[:,0],kmeans_data[:,1], labels, \\\n",
    "        'upper right', 'first feature', 'second feature', 'scatter plot')"
   ]
  },
  {
   "cell_type": "markdown",
   "metadata": {},
   "source": [
    "## (30 pts) Task 1.2: K-Means Implementation\n",
    "\n",
    "Implement k-means clustering algorithm by yourself using the number of iterations as the stopping condition. You can use built-in functions only for side-tasks such as norm computation, minimum element search and mean calculation, not for the clustering itself."
   ]
  },
  {
   "cell_type": "code",
   "execution_count": 35,
   "metadata": {},
   "outputs": [
    {
     "name": "stdout",
     "output_type": "stream",
     "text": [
      "1.065108543439029 4.585179881859681 0\n",
      "-1.8110632222538436 3.4249402147420978 1\n",
      "-1.8821663343820552 2.181566189546951 2\n",
      "1.4243621468148095 3.1719180964308062 3\n",
      "-0.3791257855460597 4.43593234520407 4\n",
      "0.9565425187094366 4.6036196368196824 5\n",
      "0.5257371965634717 2.7474051208912913 6\n",
      "-1.388326910260428 3.6752369142672086 7\n",
      "-1.3672666856350584 3.058918224026226 8\n",
      "1.4993019124897373 3.4715258588057747 9\n",
      "-2.155084662053187 3.83661151833182 10\n",
      "-1.5373044055701972 3.4928664172504904 11\n",
      "-2.128184685132945 2.2886227518072477 12\n",
      "-0.7699407891011726 2.4759190694185507 13\n",
      "0.05513489118843029 3.980678104078094 14\n",
      "0.8935552469564962 3.8276625846505947 15\n",
      "2.7153997825586402 -1.0201103570947525 16\n",
      "2.490535243042978 5.2393568920538645 17\n",
      "-1.1782673299439057 2.8995476951921475 18\n",
      "0.9331315970795419 4.228673634044568 19\n",
      "2.292500409084039 2.312394152977295 20\n",
      "1.3343128231165944 0.6527033047255635 21\n",
      "1.995115984552749 1.033668716569977 22\n",
      "-2.0789724913784617 3.6841291236315867 23\n",
      "1.2397679503554357 3.534206774039454 24\n",
      "-1.132098038670239 2.0186956527383537 25\n",
      "1.4191332492615407 0.6006413252534057 26\n",
      "-0.868261683019326 3.2015251175591444 27\n",
      "0.36671207411917783 3.8985925621132993 28\n",
      "-1.1566434803302978 3.090185713412514 29\n",
      "-1.0229154021216895 2.145847912264364 30\n",
      "1.8374735550558996 5.145453221597478 31\n",
      "0.3372945207355841 5.085698729115487 32\n",
      "-0.8851504880512233 4.728210994499957 33\n",
      "1.7860157252331155 0.5869783947292984 34\n",
      "0.5890453715885766 0.9842689999013914 35\n",
      "2.0442900433110895 1.0103133777466928 36\n",
      "2.822710313398937 0.7337125989967612 37\n",
      "1.6672507828329675 0.5682172992295829 38\n",
      "0.6523165205836374 1.1614772245335616 39\n",
      "-2.081504676486207 2.5457581257251043 40\n",
      "1.2746511900911657 4.777622951969562 41\n",
      "2.6444714209512545 4.964922968341679 42\n",
      "2.8254665581871397 1.8062790405662916 43\n",
      "2.8822325423346777 0.4553310293343198 44\n",
      "0.6276473630618816 5.65445976512028 45\n",
      "1.7999820403586981 1.0073563586285916 46\n",
      "1.4591427937208468 5.215079688143889 47\n",
      "-1.6657832409959374 2.9838168715502253 48\n",
      "-2.351244286959747 2.1197448506786496 49\n",
      "0.6195135513203376 3.9971353163205596 50\n",
      "1.576051506878379 3.8480694121382872 51\n",
      "0.5311778236812784 4.7772906339109396 52\n",
      "0.7068542121196022 4.369833439970342 53\n",
      "-1.9943029176212965 4.095227479384319 54\n",
      "-1.8920097878172666 2.0886016480450365 55\n",
      "1.122719363216727 -0.48037362291227725 56\n",
      "1.5741581954232136 0.8154314774452588 57\n",
      "1.286974341468293 4.537359356610377 58\n",
      "-0.045150298183332715 1.7902673789181693 59\n",
      "3.1145971792341216 1.2848561048832456 60\n",
      "-0.5459626313175338 2.630615005772613 61\n",
      "1.5942804446693755 0.5376998837799447 62\n",
      "1.3654100050539726 -0.1326208452865738 63\n",
      "2.2542632909979283 2.1175318063968787 64\n",
      "-2.6769797186933317 2.6336320039512406 65\n",
      "1.2556025204945862 2.362972397949735 66\n",
      "1.8678540456071016 0.10805572790893203 67\n",
      "-0.4119644851296669 2.736881419159383 68\n",
      "0.6573973260843549 4.31602273876593 69\n",
      "-1.2799323886758405 2.8109401648513366 70\n",
      "0.3494434857109222 4.574619075949873 71\n",
      "0.37341209900820327 5.6408327946177135 72\n",
      "-1.987452277997662 3.596100108327258 73\n",
      "3.9426243582273837 0.8459163935416463 74\n",
      "-1.319190792476026 3.498872572689895 75\n",
      "2.0899140085879413 1.2433494033346062 76\n",
      "1.6930041916755956 0.21248275838679798 77\n",
      "1.412664182559546 1.0744112988917476 78\n",
      "2.5577863440300916 4.27420732128594 79\n",
      "1.7460317956674742 4.762471938954208 80\n",
      "0.8811052880716705 5.099611281270277 81\n",
      "-1.8225243901095949 2.991182081936422 82\n",
      "0.5366087867973899 3.967068344525839 83\n",
      "-2.6696003246694935 2.8708883531029574 84\n",
      "2.251576715154285 0.2024771322872304 85\n",
      "-2.089102984361045 2.5928458773282785 86\n",
      "-1.3677290706371155 2.2061652073062845 87\n",
      "-0.8186143101259731 2.4573165300003046 88\n",
      "-2.1237141062413585 2.933954090258689 89\n",
      "0.41388331362480635 3.8211024830232496 90\n",
      "1.2257265565685764 4.798388545182753 91\n",
      "3.268172352276271 1.37681443473937 92\n",
      "-0.1022878315647422 4.348070723388622 93\n",
      "-0.718975191876092 3.0386353528781287 94\n",
      "2.6683504545440098 0.8170884319968781 95\n",
      "-1.4990672990113587 1.8209859637300012 96\n",
      "-0.5390835684991773 3.4679449401149434 97\n",
      "-0.5672117088181204 2.5609919918361874 98\n",
      "0.31515769940371985 4.016752542206606 99\n",
      "3.2724783956510355 1.593739733858786 100\n",
      "-2.0574136155195215 2.882823395333747 101\n",
      "-2.648189247502681 2.2968556020415947 102\n",
      "1.0083010406575073 4.172758632430306 103\n",
      "0.4974624501304435 5.465472884781301 104\n",
      "0.643782881973046 0.520045416575786 105\n",
      "1.0847332765343365 4.568501091169911 106\n",
      "3.081872622334802 1.494450017560799 107\n",
      "1.4603472042956256 4.790111728007594 108\n",
      "1.8721157094352474 0.7700923112849768 109\n",
      "0.5962670453347927 4.595022359831388 110\n",
      "0.6966557580624825 4.562826448941653 111\n",
      "1.1594851001899102 0.487861816943496 112\n",
      "-0.5572209305163441 2.7057134839362718 113\n",
      "-1.7452872887632545 2.3296789844976082 114\n",
      "1.5737811937128003 0.04780947777205247 115\n",
      "-1.490801553282983 3.524975901499022 116\n",
      "2.4523707159297463 0.7417910895773288 117\n",
      "1.7262445035422656 0.7459516305350598 118\n",
      "-1.098554978310095 1.978834553424993 119\n",
      "-1.7692786265750224 2.3616368365830738 120\n",
      "2.5650983153378206 3.2857313552292546 121\n",
      "-0.48435483976976923 3.282794885126122 122\n",
      "-2.231686239831194 4.094985962720252 123\n",
      "-1.8762156598178334 2.9328281180236067 124\n",
      "1.2579092273707793 3.824420263790171 125\n",
      "-1.505482736184943 2.869133156420268 126\n",
      "1.342993795230439 4.365682788379653 127\n",
      "-0.59838086356592 2.242657764388738 128\n",
      "0.7886677188805288 4.865506804505866 129\n",
      "1.9641926534972851 0.963430920507835 130\n",
      "1.5266996520227782 3.9772939597332297 131\n",
      "-1.9799310155153378 3.248455266394617 132\n",
      "1.9218100759258985 0.6212690001145216 133\n",
      "0.14406859809767492 3.9490158794393087 134\n",
      "2.5287900340860143 0.6302573910334628 135\n",
      "-2.120728379185568 2.689913633159001 136\n",
      "-2.1834201750279214 3.221057828539063 137\n",
      "1.5806494743377626 1.8061557133937058 138\n",
      "0.9073533114486925 3.8393525269949147 139\n",
      "2.018046614203415 5.630909750669798 140\n",
      "-0.8461289608221296 4.411590034376299 141\n",
      "-2.170283424630866 3.0528099556787742 142\n",
      "2.5055876469769274 -0.20177272610548003 143\n",
      "1.4139320942655262 3.1823469685236665 144\n",
      "0.34116122347822553 4.340149104505687 145\n",
      "0.49007257673453924 4.199043149219021 146\n",
      "2.2561006630352205 -0.7267523331155823 147\n",
      "1.9635297133538894 1.6908195756297422 148\n",
      "0.8659031672318239 5.883493775557136 149\n",
      "2.0232747489707137 1.0520190189679581 150\n",
      "0.6867367920146719 3.7805689594398597 151\n",
      "0.06170128233177352 5.464478803181121 152\n",
      "1.6133953142113093 4.525840078082301 153\n",
      "2.6558142684375134 1.6964349665982383 154\n",
      "0.8988916184837642 5.01790822564945 155\n",
      "-0.5993941762011348 3.0616150559776947 156\n",
      "1.0426932317385065 1.457872224475956 157\n",
      "-0.8713920051401244 2.8933156375243536 158\n",
      "0.9487721057872481 3.486121879029552 159\n",
      "2.3231802224414655 0.8736940635655691 160\n",
      "1.2298569699864965 1.8086633101032694 161\n",
      "-1.797713606017358 2.5606773435895827 162\n",
      "-1.474693528641418 2.1639129127503267 163\n",
      "-1.5347059415111943 2.9259314912421663 164\n",
      "2.6635419622606347 1.0914739940302265 165\n",
      "0.5055477651033293 4.0521001143700115 166\n",
      "2.435585845404142 1.2049937303083667 167\n",
      "0.07127024174008112 4.490722935992818 168\n",
      "2.3015135989098288 1.1631285334128476 169\n",
      "-1.2717671387535514 3.9478076306327594 170\n",
      "-2.184191114096355 3.629796955322394 171\n",
      "2.6444094062844234 0.7230426538252727 172\n",
      "1.321889322690927 4.222514570124334 173\n",
      "1.5165234643960621 4.880240235223002 174\n",
      "-0.9981270262575687 3.5250674492815652 175\n",
      "-1.607246740561464 3.134008130618752 176\n",
      "1.8982862674567298 0.6860888486193878 177\n",
      "1.7195084516273145 1.3319144687783955 178\n",
      "1.6732691396204302 -0.42154643154767646 179\n",
      "2.3148450223296493 0.9971069235690018 180\n",
      "1.746621678828064 0.7014148133087805 181\n",
      "-1.5656507968375781 2.7331261173182413 182\n",
      "-1.7824426648042857 1.6639529777042943 183\n",
      "1.5449362602765908 1.0352538404480862 184\n",
      "1.992000116339015 1.8549817278026364 185\n",
      "0.9643557888434866 4.569193542336947 186\n",
      "2.681949712455829 1.8601385064130298 187\n",
      "0.35482005520541615 2.917229799691641 188\n",
      "-2.0628955493565657 3.306933136191134 189\n",
      "-1.567914599015608 2.6956020955819833 190\n",
      "0.30710857820155124 4.06160008445882 191\n",
      "1.7376046926964772 1.1799488380522096 192\n",
      "2.9126769163684396 0.9430629343784401 193\n",
      "0.9040168822910046 4.591206278805251 194\n",
      "-2.179856342276412 3.788205830451731 195\n",
      "2.008174595186791 -0.02521344881337706 196\n",
      "0.17304202185872342 3.9973132961272864 197\n",
      "-1.1718367474451747 2.8365214710621185 198\n",
      "1.7284756391959442 -0.09417061925044468 199\n",
      "-1.3339835414330659 3.922416832085531 200\n",
      "2.978663334843981 0.27997048695299387 201\n",
      "1.5175471627283148 3.4750708793130674 202\n",
      "0.24459272224362683 5.151589030226281 203\n",
      "-2.086499692902073 3.0864335181524796 204\n",
      "0.4763725608513454 0.18190886939301443 205\n",
      "1.1117197255924938 0.36456228815834557 206\n",
      "0.40034584943405194 0.9118975871316071 207\n",
      "-2.7086650326619077 2.839156073541436 208\n",
      "-2.113278642557467 2.504054088698022 209\n",
      "1.3798836501769536 4.157978198543794 210\n",
      "0.8356181829664167 -0.014606267940684092 211\n",
      "0.8784147705867746 0.275383709271122 212\n",
      "-1.5671326761476816 2.6440303248113115 213\n",
      "-0.8756180659441241 2.795160779704209 214\n",
      "1.4619112854295877 4.1920859207460035 215\n",
      "-2.0991491815532637 1.9369391562056055 216\n",
      "2.322329497082764 5.340147681452487 217\n",
      "-2.0603841715676543 2.296436165687968 218\n",
      "-1.0575046980042684 2.422628273075719 219\n",
      "2.194777659260404 0.8622411812647707 220\n",
      "-1.4953102024194982 4.5556196255471635 221\n",
      "1.8858536405237243 1.9604464791869305 222\n",
      "1.7805952227281323 -1.2346364784220119 223\n",
      "2.283561350845094 4.938018588241159 224\n",
      "1.782902173894679 5.0595203418741646 225\n",
      "0.7327315740181882 4.413231605821176 226\n",
      "2.775522366249276 0.8470627546459334 227\n",
      "-1.5791715979977101 3.098983769493945 228\n",
      "0.4918351850974213 5.379251265420448 229\n",
      "0.16612139711289764 4.085182751660405 230\n",
      "-2.3302316746121 2.6672024084972232 231\n",
      "-0.2984137056024645 2.8247903657164084 232\n",
      "2.0823089077210097 -0.2620369116874306 233\n",
      "-1.5183416246747332 4.016363991508256 234\n",
      "-1.3591960813224315 2.6590214449204606 235\n",
      "1.2534747774096466 3.538644271337036 236\n",
      "1.8078652973028386 -0.23386827211778582 237\n",
      "1.341015492063426 3.9007357485792435 238\n",
      "1.581375417748149 3.7842718131638806 239\n",
      "0.15508369496658314 5.664322157402895 240\n",
      "2.061307050675181 1.2665666058561986 241\n",
      "1.5986620014783646 0.5328311413271593 242\n",
      "1.8994435447690536 0.2585082073086794 243\n",
      "1.6393464559881186 4.195280262284806 244\n",
      "-2.3855391747995363 3.5950945663682874 245\n",
      "-1.242413167648561 2.782658570248235 246\n",
      "-1.1976008118293682 3.1358952114210314 247\n",
      "-1.5121605982824609 2.987500381254621 248\n",
      "-1.6826379203919495 2.3166383258677525 249\n",
      "1.7415517675563823 0.4431271105266652 250\n",
      "-2.0203489599771167 3.3938646523046945 251\n",
      "-1.0207336676054468 2.935110749006661 252\n",
      "0.5300641606599348 4.025697057418232 253\n",
      "-0.9580321837455757 3.328963826913001 254\n",
      "-2.190146029656721 3.0889926805062657 255\n",
      "0.08693057960648165 4.982365023158998 256\n",
      "2.3754584457875714 0.22243525032432698 257\n",
      "-1.8996469566682528 3.3694209527550365 258\n",
      "0.8172906059589564 1.1465009148585752 259\n",
      "2.379458751955903 1.0930306950126543 260\n",
      "0.4549417031125872 3.72528035038708 261\n",
      "0.5322446129698206 4.049868511257394 262\n",
      "1.962931473586901 1.1809969283662851 263\n",
      "1.6567490840037484 1.0865967083964698 264\n",
      "0.5581488302707411 4.137242116633185 265\n",
      "-0.6413495265597693 3.0659301702454376 266\n",
      "3.2089619739781696 1.0126230887790706 267\n",
      "-1.3110721410503636 1.9532238343882689 268\n",
      "2.544187525808013 0.9003032822983253 269\n",
      "2.0388713479178615 1.6530999696166793 270\n",
      "-2.5383621525732654 2.0705021654467766 271\n",
      "2.4681833959470416 0.6429624929583839 272\n",
      "1.0756372928710407 4.080257435446823 273\n",
      "0.04228914856456767 3.361085073390101 274\n",
      "2.591931748584438 1.147068632168539 275\n",
      "1.8014157783582505 4.1778399423797445 276\n",
      "2.7075613833128904 1.1356391485988202 277\n",
      "0.9699669798744412 1.1897868346602216 278\n",
      "1.3426382087317226 0.8431653307793413 279\n",
      "0.6932753632181068 0.2587152140432326 280\n",
      "-2.5785816117891045 1.6735153930195286 281\n",
      "3.119263923968919 2.101376175129273 282\n",
      "0.7178427919867846 4.136221903145241 283\n",
      "1.76491522402105 3.5478352715939936 284\n",
      "0.9285009548192532 5.503127232602947 285\n",
      "-0.13178679958806216 4.731052892823434 286\n",
      "-1.0373376747104335 2.175026660120986 287\n",
      "-1.5980921054103154 2.9313778304922766 288\n",
      "0.453233493422708 1.0737027504530128 289\n",
      "2.7793544419699403 0.20031481167819054 290\n",
      "-1.8241683249249114 2.3369070430565495 291\n",
      "-1.1930751549763496 3.0217969682991774 292\n",
      "0.9836200930510693 5.553896673182475 293\n",
      "0.468351913621986 3.3354325586718514 294\n",
      "2.4602325698430927 1.1424217798331586 295\n",
      "-2.051687254513933 2.940848384662721 296\n",
      "1.4866334720707708 4.394075364978577 297\n",
      "-1.2181809781306994 3.0430372673463486 298\n",
      "1.9104349481180978 1.5137888983944845 299\n",
      "2.345408694321981 4.576852653329938 300\n",
      "2.3815840196566995 0.6384939514448968 301\n",
      "-0.8714250327351838 2.549933846161765 302\n",
      "2.9554563263890827 -0.1572352188120536 303\n",
      "0.20320174094657972 4.340302882931072 304\n",
      "-1.269622586006317 3.0511003516488806 305\n",
      "0.11846521536537746 4.894841410929473 306\n",
      "1.8388874100926818 0.7342369968573519 307\n",
      "1.4061256377887512 4.949331997544959 308\n",
      "-1.368996848723743 3.890283982307672 309\n",
      "1.2027105633176722 0.6841891134398426 310\n",
      "-0.9978858109957256 2.54048941560603 311\n",
      "-1.5519416635240602 4.584404007186948 312\n",
      "2.049215528597415 5.332338466378589 313\n",
      "-0.020572557741276976 3.958463409094854 314\n",
      "1.5089964861493903 4.38895983899337 315\n",
      "2.2119580157519154 1.1283997474273535 316\n",
      "-1.8997959676075935 3.6814070754372725 317\n",
      "-1.7204070047329914 2.7361783740492953 318\n",
      "0.47254700656024007 3.734692235460536 319\n",
      "0.9592417914672401 3.787165691004408 320\n",
      "1.7957747191785605 0.23573260304853294 321\n",
      "-0.11706190477897782 2.7031462181142194 322\n",
      "1.6362097655867878 0.11653576976566082 323\n",
      "1.0771005783591097 5.321778782322473 324\n",
      "-0.2181190548910137 5.669330104110642 325\n",
      "1.7032958309831012 2.5863812356185605 326\n",
      "2.6254313971743843 0.9389115723650778 327\n",
      "0.519584070875581 4.030119964817069 328\n",
      "-1.8806548353069923 2.346828181937343 329\n",
      "2.7109872459075577 1.886293054164147 330\n",
      "2.294475566485873 3.3603559846486775 331\n",
      "1.404157969665853 0.7726512954768064 332\n",
      "-0.9224402523549852 2.3545546428866144 333\n",
      "1.850981367509374 0.36461911166980054 334\n",
      "0.765118836323224 0.5630818571095961 335\n",
      "0.16694237627115616 4.850625998645385 336\n",
      "-0.8116506033098343 2.5311037899414126 337\n",
      "0.24228300299953032 3.3097747714231076 338\n",
      "-1.1377301374250468 3.542613982465194 339\n",
      "1.3754943221217388 1.1180357030990136 340\n",
      "-1.3245196595267368 3.206891835645445 341\n",
      "2.7059210994685476 1.305220873916484 342\n",
      "1.3022337863578168 3.2284167470543332 343\n",
      "1.044677555946894 4.711854903275696 344\n",
      "1.1722172978767618 4.235082054698319 345\n",
      "1.3170275966433684 1.4718371460652135 346\n",
      "0.5042372160863318 4.326068718240435 347\n",
      "-0.15345841474407096 4.154869131298612 348\n",
      "-2.478750521074575 2.8889016932425458 349\n",
      "1.7478348561713744 1.0246005603904118 350\n",
      "0.4585759810725758 5.383897544233105 351\n",
      "-2.803883672378386 3.1304049944565238 352\n",
      "-1.2752509335221984 2.8166854894795077 353\n",
      "-1.7800235097690393 3.6630918566226187 354\n",
      "2.0224092596904533 2.8547978099389173 355\n",
      "2.8452833665930757 1.2448643223787104 356\n",
      "1.5203667746983678 -0.10879037172316797 357\n",
      "1.9779249378867285 -0.2648262083705475 358\n",
      "-1.362528945057793 4.410389648732433 359\n",
      "0.5588502516311393 4.266990220059707 360\n",
      "2.224750094122464 0.2755594797903953 361\n",
      "-1.9943082136734849 3.146756078116243 362\n",
      "-0.16486876432973618 4.627734906316432 363\n",
      "0.6517528962942292 4.640824359089813 364\n",
      "1.085824655122258 4.466314052788583 365\n",
      "0.11574890814668759 2.022469486413342 366\n",
      "1.8078909331931063 4.5256471557957845 367\n",
      "-1.3732473241667738 3.193026315119187 368\n",
      "1.6408646433945275 4.365073196418024 369\n",
      "-1.4849777350405122 2.769116129993906 370\n",
      "-2.522247923370211 4.316451517158126 371\n",
      "2.0221254297568194 4.160176542812329 372\n",
      "-1.9015931283948966 2.935665907202634 373\n",
      "-1.6958404672390786 2.3031490213660715 374\n",
      "-0.5308155656606312 3.195142870802715 375\n",
      "-1.299495282164575 3.6158648478873543 376\n",
      "1.9015888016010287 0.13883802546758273 377\n",
      "1.7926645397699792 0.03932632568982353 378\n",
      "-1.5999444572681902 2.2262809015875087 379\n",
      "2.0811715267699826 1.4351953453508295 380\n",
      "-1.1901234247497205 4.84943084114823 381\n",
      "-1.874175647009699 2.865518773456884 382\n",
      "-1.2958794330646872 4.476043293549904 383\n",
      "-1.7827897762121314 3.5745470399670745 384\n",
      "1.442738235968835 3.9812834762764027 385\n",
      "0.8826789867785877 5.0582079916317735 386\n",
      "0.4070676811153773 3.0953895058162164 387\n",
      "2.6590847293627937 -0.961269705144516 388\n",
      "-1.0436036961537711 3.4755527371883925 389\n",
      "0.4069150971035531 3.2772902979866303 390\n",
      "0.8665934478302999 1.1687599927144812 391\n",
      "1.4468764084552 4.589010612817168 392\n",
      "2.6156628838345757 0.9524457825510998 393\n",
      "0.6716625923413488 5.598271937383929 394\n",
      "2.404350713869757 1.6312441691155737 395\n",
      "-1.5196594930254959 3.42190589287228 396\n",
      "-2.4359847187360684 3.811135003537454 397\n",
      "1.195417469702126 3.7059203099371825 398\n",
      "0.2891931982158009 2.635059655637467 399\n",
      "2.2131935795626507 1.2124621301003315 400\n",
      "0.7284743406690564 3.3413214220557768 401\n",
      "1.9257299517263389 0.33230971860648795 402\n",
      "-0.8055972260309822 1.4847557321925497 403\n",
      "-2.0143326709246634 2.714604290770416 404\n",
      "1.7738505577268056 3.439409253200833 405\n",
      "2.8032241009540844 0.5802935972419655 406\n",
      "-3.334861656300866 2.1101170067767163 407\n",
      "2.1700175221496885 0.9650886090827746 408\n",
      "-0.5974561260513174 2.8469852209809434 409\n",
      "0.2523000892973698 4.780903490245529 410\n",
      "-0.2528533298599085 4.6194414507125305 411\n",
      "-0.8108227925373599 4.761320344256642 412\n",
      "1.77860723357483 0.08606929845799782 413\n",
      "0.22113626088899951 1.3461571074731415 414\n",
      "0.4829798854471315 4.964069834927036 415\n",
      "0.1606651899981456 4.934365868316321 416\n",
      "1.8120520646838836 0.4907757261357092 417\n",
      "-2.249754184546396 2.6121584251125176 418\n",
      "-0.9860176272502382 1.7547634575529283 419\n",
      "0.7586497583575649 4.371967443836539 420\n",
      "-1.8428161391936737 3.103863843809488 421\n",
      "3.0104398151046077 0.4150492307529805 422\n",
      "1.0228321342147126 4.515517655866237 423\n",
      "-1.9864285857019774 0.9336941076408314 424\n",
      "0.8832536742356262 4.09533371186718 425\n",
      "2.1836049609131987 2.0673237828901367 426\n",
      "0.1874920124167746 3.7923129004430125 427\n",
      "-2.4864360010020476 3.52383930730422 428\n",
      "0.6940462156652694 5.159498876716089 429\n",
      "1.1850368004907343 5.232257455129311 430\n",
      "1.4023488838768134 0.01351581556634418 431\n",
      "1.1684315289532528 3.6801467693515204 432\n",
      "1.1767106607710907 4.729978011581205 433\n",
      "1.100468378124122 4.022540672102607 434\n",
      "0.43732882643477367 4.681261761352662 435\n",
      "1.913239732896211 0.8207457144214172 436\n",
      "1.6208712551930682 4.526896684508505 437\n",
      "0.9124233530687313 -0.1997737470779808 438\n",
      "-2.1264885289858517 1.8387710815628717 439\n",
      "1.727062589856121 -0.6433452399124535 440\n",
      "0.3965566877742559 1.5025002702862902 441\n",
      "-0.4452090489005509 5.748932330399914 442\n",
      "-1.4912360193140028 1.6619217712903183 443\n",
      "2.7149952048871535 0.7103473375731935 444\n",
      "-1.2955002838298437 3.582354792823888 445\n",
      "2.3035979066121306 1.329484248013232 446\n",
      "-1.7704773123664974 1.9705100606297234 447\n",
      "2.1358710326309422 0.632260365921991 448\n",
      "1.0929415253072654 4.748309333272864 449\n",
      "-1.3370848839757878 2.3568344415570603 450\n",
      "3.4631471984570736 0.866446861418837 451\n",
      "2.1918163094388445 -0.349430339055977 452\n",
      "1.634807231072426 1.9842338859719293 453\n",
      "1.2574058026341361 1.4471339248062869 454\n",
      "1.9034028224772237 1.209438935564295 455\n",
      "0.618706482248284 3.4773447985627017 456\n",
      "-1.1990343492279694 4.132997559713122 457\n",
      "2.630377519867735 0.9013685123474895 458\n",
      "-1.3981561671836884 2.648039429070197 459\n",
      "0.9467500626430898 4.102966292775455 460\n",
      "1.1220625632002972 4.987434652986989 461\n",
      "1.3829144542896743 0.3424815060425668 462\n",
      "-1.2131673141255868 4.105209362312835 463\n",
      "-2.5501168950048907 2.4394744245810456 464\n",
      "0.27611933537379973 3.222447559704062 465\n",
      "-1.6274096714233297 2.6504644470678542 466\n",
      "2.8100056340328443 -0.8937656065029305 467\n",
      "0.7599610002135095 3.130584663017406 468\n",
      "0.09931332651154678 4.848030576530727 469\n",
      "2.27727995983776 1.2616920901375444 470\n",
      "1.0710934800453487 0.4846233078292591 471\n",
      "-0.23219014054615994 2.7679656019930636 472\n",
      "2.015974407118748 0.8966941300233698 473\n",
      "-1.940885880687583 3.7049756904903806 474\n",
      "2.204703555669996 0.05166210232468205 475\n",
      "1.862298147240488 0.4008540838451151 476\n",
      "0.48754468036966236 1.1787129985011382 477\n",
      "2.3729148602778567 -0.3831546277652351 478\n",
      "-0.8544186342994436 3.8482262539109002 479\n",
      "0.7051413063609284 4.092175402045655 480\n",
      "1.4913289661553204 0.11484531291279432 481\n",
      "0.6890046503957565 0.4357394491272883 482\n",
      "-0.06761023634742869 4.611361518333566 483\n",
      "1.5074271123536103 0.8203911506191154 484\n",
      "-1.1565723463878033 3.213722296529301 485\n",
      "-1.2708098616801047 3.8263599482146327 486\n",
      "1.6413319708144076 4.197837281640002 487\n",
      "1.5932280973390198 1.0207369272451565 488\n",
      "1.3942095778558723 1.0643358634205553 489\n",
      "-1.8113162045334492 2.313050767561464 490\n",
      "1.3425637409187225 4.183704895592816 491\n",
      "-2.1231144512994184 4.193788781422694 492\n",
      "0.7581833060573342 4.343103067009212 493\n",
      "2.589011766925254 3.561776251543307 494\n",
      "2.4788515802903945 1.5245528498238636 495\n",
      "2.629492779515873 1.8496276391135757 496\n",
      "2.59525168550667 1.6182708400858739 497\n",
      "0.22674324348911534 5.041903536300186 498\n",
      "2.3720098862806305 0.9661909617267758 499\n"
     ]
    }
   ],
   "source": [
    "for i, datum in enumerate(kmeans_data):\n",
    "    print(datum[0], datum[1], i)"
   ]
  },
  {
   "cell_type": "code",
   "execution_count": 33,
   "metadata": {},
   "outputs": [
    {
     "name": "stdout",
     "output_type": "stream",
     "text": [
      "[-1.89964696  3.36942095]\n",
      "[-2.19014603  3.08899268]\n",
      "[2.49053524 5.23935689]\n"
     ]
    }
   ],
   "source": [
    "for i in range(3):\n",
    "    print(kmeans_data[np.random.choice(kmeans_data.shape[0], 1, replace=False)][0])"
   ]
  },
  {
   "cell_type": "code",
   "execution_count": 27,
   "metadata": {},
   "outputs": [
    {
     "data": {
      "text/plain": [
       "array([108, 388])"
      ]
     },
     "execution_count": 27,
     "metadata": {},
     "output_type": "execute_result"
    }
   ],
   "source": [
    "for datum in "
   ]
  },
  {
   "cell_type": "code",
   "execution_count": 40,
   "metadata": {},
   "outputs": [],
   "source": [
    "def euclidian_dist(point1, point2):\n",
    "    return np.sqrt((point1[0]-point2[0])**2 + (point1[1]-point2[1])**2)"
   ]
  },
  {
   "cell_type": "code",
   "execution_count": 39,
   "metadata": {
    "scrolled": false
   },
   "outputs": [
    {
     "data": {
      "text/plain": [
       "5.0"
      ]
     },
     "execution_count": 39,
     "metadata": {},
     "output_type": "execute_result"
    }
   ],
   "source": [
    "euclidian([1,1], [5,4])"
   ]
  },
  {
   "cell_type": "code",
   "execution_count": 48,
   "metadata": {},
   "outputs": [],
   "source": [
    "a = np.array(3)"
   ]
  },
  {
   "cell_type": "code",
   "execution_count": 64,
   "metadata": {},
   "outputs": [
    {
     "data": {
      "text/plain": [
       "array([[0., 0.],\n",
       "       [0., 0.],\n",
       "       [0., 0.]])"
      ]
     },
     "execution_count": 64,
     "metadata": {},
     "output_type": "execute_result"
    }
   ],
   "source": [
    "np.zeros(shape=(3,2))"
   ]
  },
  {
   "cell_type": "code",
   "execution_count": 56,
   "metadata": {},
   "outputs": [
    {
     "data": {
      "text/plain": [
       "array([0.34944349, 4.57461908])"
      ]
     },
     "execution_count": 56,
     "metadata": {},
     "output_type": "execute_result"
    }
   ],
   "source": [
    "kmeans_data[np.random.choice(kmeans_data.shape[0], 1, replace=False)][0]"
   ]
  },
  {
   "cell_type": "code",
   "execution_count": 88,
   "metadata": {},
   "outputs": [],
   "source": [
    "def KMeans(k, kmeans_data, iterations):\n",
    "    \n",
    "    clusters = np.zeros(shape=(k,2))\n",
    "    \n",
    "    \n",
    "    for i in range(k):\n",
    "        clusters[i] = kmeans_data[np.random.choice(kmeans_data.shape[0], 1, replace=False)][0]\n",
    "        \n",
    "    \n",
    "    \n",
    "    new_labels = np.zeros(500)\n",
    "    \n",
    "    for iteration in range(iterations):\n",
    "    \n",
    "        for i, datum in enumerate(kmeans_data):\n",
    "            min_value = float('inf')\n",
    "            for c, cluster in enumerate(clusters):\n",
    "                cluster_dist = euclidian_dist(cluster, datum)\n",
    "                if min_value > cluster_dist:\n",
    "                    new_labels[i] = c\n",
    "                    min_value = cluster_dist\n",
    "        \n",
    "        for i in range(k):\n",
    "            clusters[i] = [np.mean(kmeans_data[new_labels == i,0]), np.mean(kmeans_data[new_labels == i,1])]\n",
    "    \n",
    "    return new_labels"
   ]
  },
  {
   "cell_type": "code",
   "execution_count": 99,
   "metadata": {},
   "outputs": [],
   "source": [
    "new_labels = KMeans(3, kmeans_data, 9)"
   ]
  },
  {
   "cell_type": "code",
   "execution_count": 100,
   "metadata": {},
   "outputs": [
    {
     "data": {
      "image/png": "[encoded data removed]",
      "text/plain": [
       "<Figure size 432x288 with 1 Axes>"
      ]
     },
     "metadata": {
      "needs_background": "light"
     },
     "output_type": "display_data"
    }
   ],
   "source": [
    "plotter(kmeans_data[:,0],kmeans_data[:,1], new_labels, \\\n",
    "        'upper right', 'first feature', 'second feature', 'scatter plot')"
   ]
  },
  {
   "cell_type": "markdown",
   "metadata": {},
   "source": [
    "## (10 pts) Taks 1.3: Evaluation\n",
    "\n",
    "Run k-means $9$ times with number of iterations $(N)$ $= \\{1, 2, ..., 9\\}$. Plot the final clustering assignments as a scatter plot for each run as 3x3 `matplotlib subplot`. Visually investigate the effect of the number of iterations on obtaining the optimal clustering and find the convergence point by comparing the plots with the one in Task 1.1. If the model does not converge at $9$ iterations, you can select $9$ other $N$ to effectively show the progress of the clustering.\n",
    "\n",
    "For a fair comparison, start each run with the same initial random assignments. You can use `np.random.seed(1)` to this purpose."
   ]
  },
  {
   "cell_type": "code",
   "execution_count": null,
   "metadata": {},
   "outputs": [],
   "source": []
  },
  {
   "cell_type": "markdown",
   "metadata": {},
   "source": [
    "# (50 pts) Task 2: Principal Component Analysis (PCA)\n",
    "\n",
    "Please load the whole dataset in `USPS.mat` using the function `loadmat` in `Scipy.io`. The matrix $A$ contains all the images of size 16 by 16. Each of the 3000 rows in $A$ corresponds to the image of one handwritten digit (between 0 and 9)."
   ]
  },
  {
   "cell_type": "markdown",
   "metadata": {},
   "source": [
    "## (30 pts) Task 2.1: PCA Implementation\n",
    "\n",
    "Implement PCA and apply it to the data using $d = 50, 100, 200, 300$ principal components. You are not allowed to use an existing implementation. You can use existing packages for eigen-decomposition. **Do not forget to standardize the data before eigen-decomposition.**"
   ]
  },
  {
   "cell_type": "code",
   "execution_count": null,
   "metadata": {},
   "outputs": [],
   "source": []
  },
  {
   "cell_type": "markdown",
   "metadata": {},
   "source": [
    "## (15 pts) Task 2.2: Image Reconstruction\n",
    "\n",
    "Reconstruct images using the selected principal components from Task 2.1"
   ]
  },
  {
   "cell_type": "code",
   "execution_count": null,
   "metadata": {},
   "outputs": [],
   "source": []
  },
  {
   "cell_type": "markdown",
   "metadata": {},
   "source": [
    "## (5 pts) Task 2.3: Evaluation\n",
    "\n",
    "Visualize the reconstructed images for the images at indices $i = 0, 500, 1000, 2000$ for $d=50, 100, 200, 300$. Create a 4x5 subplot where the rows correspond to images at each index, first four columns correspond to reconstructed images using each $d$ and the last column is the raw image, i.e. before PCA. Comment on your results."
   ]
  },
  {
   "cell_type": "code",
   "execution_count": null,
   "metadata": {},
   "outputs": [],
   "source": []
  }
 ],
 "metadata": {
  "kernelspec": {
   "display_name": "Python 3",
   "language": "python",
   "name": "python3"
  },
  "language_info": {
   "codemirror_mode": {
    "name": "ipython",
    "version": 3
   },
   "file_extension": ".py",
   "mimetype": "text/x-python",
   "name": "python",
   "nbconvert_exporter": "python",
   "pygments_lexer": "ipython3",
   "version": "3.7.4"
  }
 },
 "nbformat": 4,
 "nbformat_minor": 4
}
